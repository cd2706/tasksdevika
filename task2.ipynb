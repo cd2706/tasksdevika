{
 "cells": [
  {
   "cell_type": "code",
   "execution_count": 1,
   "id": "d3e965cb",
   "metadata": {},
   "outputs": [],
   "source": [
    "import pandas as pd"
   ]
  },
  {
   "cell_type": "code",
   "execution_count": 2,
   "id": "88db6655",
   "metadata": {},
   "outputs": [],
   "source": [
    "df = pd.read_csv(\"data.csv\") "
   ]
  },
  {
   "cell_type": "code",
   "execution_count": 3,
   "id": "5917e633",
   "metadata": {},
   "outputs": [],
   "source": [
    "midcpnifty_data = df[df['underlying'] == 'MIDCPNIFTY']"
   ]
  },
  {
   "cell_type": "code",
   "execution_count": 4,
   "id": "37fff522",
   "metadata": {},
   "outputs": [],
   "source": [
    "df['PnL'] = 0  # PnL\n",
    "buy_mask = df['side'] == 'BUY'\n",
    "sell_mask = df['side'] == 'SELL'\n",
    "df.loc[buy_mask, 'PnL'] = -df.loc[buy_mask, 'Price'] * df.loc[buy_mask, 'Qty']  \n",
    "df.loc[sell_mask, 'PnL'] = df.loc[sell_mask, 'Price'] * df.loc[sell_mask, 'Qty']"
   ]
  },
  {
   "cell_type": "code",
   "execution_count": 5,
   "id": "c6db3075",
   "metadata": {},
   "outputs": [],
   "source": [
    "# calculations \n",
    "df['STT'] = 0.0005 * df['Qty'] * df['Price']  # 0.05% of premium\n",
    "df['TransactionCharges'] = 0.000025 * df['Qty'] * df['Price']  #  Transaction charges as 0.0025% of premium\n",
    "df['GST'] = 0.18 * df['TransactionCharges']  # GST as 18% of transaction charges\n",
    "df['StampDuty'] = 0.0001 * df['Qty'] * df['Price']  # Stamp duty as 0.01% of premium\n",
    "\n",
    "#  total cost per crore of premium traded\n",
    "df['TotalCostPerCrore'] = (df['STT'] + df['TransactionCharges'] + df['GST'] + df['StampDuty']) / (df['Qty'] * df['Price']) * 1e7\n",
    "\n",
    "# to get Net P&L\n",
    "df['NetPnL'] = df['PnL'] - (df['STT'] + df['TransactionCharges'] + df['GST'] + df['StampDuty'])"
   ]
  },
  {
   "cell_type": "code",
   "execution_count": 6,
   "id": "448ca77d",
   "metadata": {},
   "outputs": [
    {
     "name": "stdout",
     "output_type": "stream",
     "text": [
      "      Unnamed: 0  Price   Qty  side   symID                 time  \\\n",
      "0           4604  27.50    75   BUY   61231  2023-12-22 09:40:22   \n",
      "1           4664  27.25   600   BUY   61231  2023-12-22 09:40:53   \n",
      "2           4821   8.95   750   BUY   61227  2023-12-22 09:42:01   \n",
      "3           4972  25.85   300   BUY   61231  2023-12-22 09:43:30   \n",
      "4           4973  15.90   150   BUY   61229  2023-12-22 09:43:30   \n",
      "...          ...    ...   ...   ...     ...                  ...   \n",
      "1769      164413  26.85   550  SELL  121162  2023-12-22 15:21:13   \n",
      "1770      164501  31.30   550  SELL  121164  2023-12-22 15:28:35   \n",
      "1771      166840   7.80  9150  SELL  116124  2023-12-22 10:38:53   \n",
      "1772      167279   5.20  9150  SELL  116120  2023-12-22 11:06:18   \n",
      "1773      168334  10.50  9150  SELL  116134  2023-12-22 13:08:00   \n",
      "\n",
      "                  instrument  lot_size   strike  underlying    expiry  \\\n",
      "0     MIDCPNIFTY23DEC10175PE        75  10175.0  MIDCPNIFTY  20231222   \n",
      "1     MIDCPNIFTY23DEC10175PE        75  10175.0  MIDCPNIFTY  20231222   \n",
      "2     MIDCPNIFTY23DEC10125PE        75  10125.0  MIDCPNIFTY  20231222   \n",
      "3     MIDCPNIFTY23DEC10175PE        75  10175.0  MIDCPNIFTY  20231222   \n",
      "4     MIDCPNIFTY23DEC10150PE        75  10150.0  MIDCPNIFTY  20231222   \n",
      "...                      ...       ...      ...         ...       ...   \n",
      "1769     HDFCBANK24JAN1660PE       550   1660.0    HDFCBANK  20240125   \n",
      "1770     HDFCBANK24JAN1670PE       550   1670.0    HDFCBANK  20240125   \n",
      "1771          GAIL24JAN145CE      4575    145.0        GAIL  20240125   \n",
      "1772          GAIL24JAN143PE      4575    143.0        GAIL  20240125   \n",
      "1773          GAIL24JAN150CE      4575    150.0        GAIL  20240125   \n",
      "\n",
      "     option_type      PnL       STT  TransactionCharges       GST  StampDuty  \\\n",
      "0             PE  -2062.5   1.03125            0.051563  0.009281    0.20625   \n",
      "1             PE -16350.0   8.17500            0.408750  0.073575    1.63500   \n",
      "2             PE  -6712.5   3.35625            0.167812  0.030206    0.67125   \n",
      "3             PE  -7755.0   3.87750            0.193875  0.034898    0.77550   \n",
      "4             PE  -2385.0   1.19250            0.059625  0.010733    0.23850   \n",
      "...          ...      ...       ...                 ...       ...        ...   \n",
      "1769          PE  14767.5   7.38375            0.369188  0.066454    1.47675   \n",
      "1770          PE  17215.0   8.60750            0.430375  0.077467    1.72150   \n",
      "1771          CE  71370.0  35.68500            1.784250  0.321165    7.13700   \n",
      "1772          PE  47580.0  23.79000            1.189500  0.214110    4.75800   \n",
      "1773          CE  96075.0  48.03750            2.401875  0.432337    9.60750   \n",
      "\n",
      "      TotalCostPerCrore        NetPnL  \n",
      "0                6295.0  -2063.798344  \n",
      "1                6295.0 -16360.292325  \n",
      "2                6295.0  -6716.725519  \n",
      "3                6295.0  -7759.881772  \n",
      "4                6295.0  -2386.501357  \n",
      "...                 ...           ...  \n",
      "1769             6295.0  14758.203859  \n",
      "1770             6295.0  17204.163157  \n",
      "1771             6295.0  71325.072585  \n",
      "1772             6295.0  47550.048390  \n",
      "1773             6295.0  96014.520788  \n",
      "\n",
      "[1774 rows x 19 columns]\n"
     ]
    }
   ],
   "source": [
    "print(df)"
   ]
  },
  {
   "cell_type": "code",
   "execution_count": null,
   "id": "b7f3950b",
   "metadata": {},
   "outputs": [],
   "source": []
  }
 ],
 "metadata": {
  "kernelspec": {
   "display_name": "Python 3 (ipykernel)",
   "language": "python",
   "name": "python3"
  },
  "language_info": {
   "codemirror_mode": {
    "name": "ipython",
    "version": 3
   },
   "file_extension": ".py",
   "mimetype": "text/x-python",
   "name": "python",
   "nbconvert_exporter": "python",
   "pygments_lexer": "ipython3",
   "version": "3.11.5"
  }
 },
 "nbformat": 4,
 "nbformat_minor": 5
}
