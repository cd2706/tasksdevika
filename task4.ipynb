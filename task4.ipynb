{
 "cells": [
  {
   "cell_type": "code",
   "execution_count": 1,
   "id": "0ba807bf",
   "metadata": {},
   "outputs": [],
   "source": [
    "import pandas as pd"
   ]
  },
  {
   "cell_type": "code",
   "execution_count": 2,
   "id": "fe8565aa",
   "metadata": {},
   "outputs": [],
   "source": [
    "data1 = pd.read_csv(\"data.csv\")  \n",
    "data2 = pd.read_csv(\"data2.csv\") \n",
    "\n",
    "combined_data = pd.concat([data1, data2])\n"
   ]
  },
  {
   "cell_type": "code",
   "execution_count": 3,
   "id": "8eee2c29",
   "metadata": {},
   "outputs": [],
   "source": [
    "buy_data = combined_data[combined_data['side'] == 'BUY']\n",
    "sell_data = combined_data[combined_data['side'] == 'SELL']"
   ]
  },
  {
   "cell_type": "code",
   "execution_count": 4,
   "id": "4b2d0518",
   "metadata": {},
   "outputs": [],
   "source": [
    "net_positions = (buy_data.groupby(['time', 'underlying'])['Qty'].sum()\n",
    "                 - sell_data.groupby(['time', 'underlying'])['Qty'].sum()).reset_index()"
   ]
  },
  {
   "cell_type": "code",
   "execution_count": 5,
   "id": "b9252d49",
   "metadata": {},
   "outputs": [
    {
     "name": "stdout",
     "output_type": "stream",
     "text": [
      "                     time  underlying    Qty\n",
      "0     2023-12-22 09:15:04  MIDCPNIFTY -225.0\n",
      "1     2023-12-22 09:15:05  MIDCPNIFTY -150.0\n",
      "2     2023-12-22 09:15:06  MIDCPNIFTY  750.0\n",
      "3     2023-12-22 09:15:07  MIDCPNIFTY -450.0\n",
      "4     2023-12-22 09:15:08  MIDCPNIFTY    0.0\n",
      "...                   ...         ...    ...\n",
      "1180  2023-12-22 15:21:13    HDFCBANK    NaN\n",
      "1181  2023-12-22 15:22:25      MARUTI    NaN\n",
      "1182  2023-12-22 15:26:40    HDFCBANK    NaN\n",
      "1183  2023-12-22 15:28:35    HDFCBANK    NaN\n",
      "1184  2023-12-22 15:28:55      MARUTI    NaN\n",
      "\n",
      "[1185 rows x 3 columns]\n"
     ]
    }
   ],
   "source": [
    "print(net_positions)"
   ]
  },
  {
   "cell_type": "code",
   "execution_count": null,
   "id": "6246f689",
   "metadata": {},
   "outputs": [],
   "source": []
  }
 ],
 "metadata": {
  "kernelspec": {
   "display_name": "Python 3 (ipykernel)",
   "language": "python",
   "name": "python3"
  },
  "language_info": {
   "codemirror_mode": {
    "name": "ipython",
    "version": 3
   },
   "file_extension": ".py",
   "mimetype": "text/x-python",
   "name": "python",
   "nbconvert_exporter": "python",
   "pygments_lexer": "ipython3",
   "version": "3.11.5"
  }
 },
 "nbformat": 4,
 "nbformat_minor": 5
}
